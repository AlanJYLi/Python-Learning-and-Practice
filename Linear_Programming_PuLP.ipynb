{
 "cells": [
  {
   "cell_type": "markdown",
   "metadata": {},
   "source": [
    "## Diet Problem  \n",
    "  \n",
    "### 1. Formulate an optimization model (a linear program) to find the cheapest diet that satisfies the maximum and minimum daily nutrition constraints, and solve it using PuLP.  \n",
    "  \n",
    "*Data set 'diet.xls' is in the 'resources' file.*"
   ]
  },
  {
   "cell_type": "code",
   "execution_count": 1,
   "metadata": {},
   "outputs": [],
   "source": [
    "import numpy as np\n",
    "import pandas as pd\n",
    "import math\n",
    "from pulp import *"
   ]
  },
  {
   "cell_type": "code",
   "execution_count": 2,
   "metadata": {},
   "outputs": [],
   "source": [
    "d = pd.read_excel(r'C:\\Users\\alanl\\Desktop\\Gatech MSiA\\Courses\\ISyE 6501 Introduction to Analytics Modeling\\hw11\\data 15.2\\diet.xls')"
   ]
  },
  {
   "cell_type": "markdown",
   "metadata": {},
   "source": [
    "The first step is to split the DataFrame into two parts: nutrition table and constraint values.  "
   ]
  },
  {
   "cell_type": "code",
   "execution_count": 3,
   "metadata": {},
   "outputs": [],
   "source": [
    "d_c = d.iloc[65:67, :].dropna(axis=1) # Dataframe of constraint values"
   ]
  },
  {
   "cell_type": "code",
   "execution_count": 4,
   "metadata": {},
   "outputs": [],
   "source": [
    "d_n = d.iloc[:64, :]"
   ]
  },
  {
   "cell_type": "markdown",
   "metadata": {},
   "source": [
    "We build a function to create new variables (i.e. number of units for each kind of food) and a function to add constraints to the model."
   ]
  },
  {
   "cell_type": "code",
   "execution_count": 5,
   "metadata": {},
   "outputs": [],
   "source": [
    "def food(data):\n",
    "    food_volume = {}\n",
    "    nrow = data.shape[0]\n",
    "    for i in range(nrow):\n",
    "        foodname = data.iloc[i,]['Foods']\n",
    "        food_volume[foodname] = LpVariable(foodname, 0, None, LpContinuous)\n",
    "    return food_volume\n",
    "\n",
    "def nutrition_constraints(problem, nutritionlist, food_volume, data, data_constraint):\n",
    "    for nutrition in nutritionlist:\n",
    "        minimum = data_constraint[nutrition].iloc[0]\n",
    "        maximum = data_constraint[nutrition].iloc[1]\n",
    "        total = 0\n",
    "        for foodname in food_volume:\n",
    "            n = data.loc[data['Foods']==foodname, nutrition].to_list()[0]\n",
    "            total += n * food_volume[foodname]\n",
    "        problem += total <= maximum\n",
    "        problem += total >= minimum\n",
    "    return problem"
   ]
  },
  {
   "cell_type": "markdown",
   "metadata": {},
   "source": [
    "Then we build the linear optimization model to minimize the total cost while all nutrition constraints are satisfied."
   ]
  },
  {
   "cell_type": "code",
   "execution_count": 6,
   "metadata": {},
   "outputs": [],
   "source": [
    "prob = LpProblem('p1', LpMinimize)\n",
    "food_volume = food(d_n)\n",
    "nutritionlist = d_n.columns.to_list()[3:]\n",
    "cost = 0\n",
    "for foodname in food_volume:\n",
    "    cost += food_volume[foodname] * d_n.loc[d_n['Foods']==foodname, 'Price/ Serving'].to_list()[0]\n",
    "prob += cost\n",
    "prob = nutrition_constraints(prob, nutritionlist, food_volume, d_n, d_c)\n",
    "status = prob.solve()"
   ]
  },
  {
   "cell_type": "code",
   "execution_count": 7,
   "metadata": {},
   "outputs": [
    {
     "name": "stdout",
     "output_type": "stream",
     "text": [
      "Frozen Broccoli = 0.260\n",
      "Celery, Raw = 52.644\n",
      "Lettuce,Iceberg,Raw = 63.989\n",
      "Oranges = 2.293\n",
      "Poached Eggs = 0.142\n",
      "Popcorn,Air-Popped = 13.869\n",
      "\n",
      "Obj = 4.337\n"
     ]
    }
   ],
   "source": [
    "for foodname in food_volume:\n",
    "    need = value(food_volume[foodname])\n",
    "    if need > 0:\n",
    "        print('{} = {:.3f}'.format(foodname,need))\n",
    "\n",
    "print('\\nObj = {:.3f}'.format(value(prob.objective)))"
   ]
  },
  {
   "cell_type": "markdown",
   "metadata": {},
   "source": [
    "The results show above is that the the optimal solution is nearly: 0.26 units of Frozen Broccoli, 52.64 units of Raw Celery, 63.99 units of Raw Iceberg Lettuce, 2.29 units of Oranges, 0.14 units of Poached Eggs and 13.87 units of Air-Popped Popcorn. And the objective value is 4.34."
   ]
  },
  {
   "cell_type": "markdown",
   "metadata": {},
   "source": [
    "### 2. Please add to your model the following constraints (which might require adding more variables) and solve the new model:  \n",
    "  \n",
    "a.If a food is selected, then a minimum of 1/10 serving must be chosen.  \n",
    "  \n",
    "b.Many people dislike celery and frozen broccoli. So at most one, but not both, can be selected.  \n",
    "  \n",
    "c.To get day-to-day variety in protein, at least 3 kinds of meat/poultry/fish/eggs must be selected.  "
   ]
  },
  {
   "cell_type": "markdown",
   "metadata": {},
   "source": [
    "We introduce another group of variables to indicate whether or not a kind of food is selected (binary variable)."
   ]
  },
  {
   "cell_type": "code",
   "execution_count": 8,
   "metadata": {},
   "outputs": [],
   "source": [
    "def select(data):\n",
    "    food_select = {}\n",
    "    nrow = data.shape[0]\n",
    "    for i in range(nrow):\n",
    "        foodname = data.iloc[i,]['Foods']\n",
    "        food_select[foodname] = LpVariable(foodname+'_s', 0, 1, LpBinary)\n",
    "    return food_select"
   ]
  },
  {
   "cell_type": "markdown",
   "metadata": {},
   "source": [
    "For new constraints a: If a food is selected, then a minimum of 1/10 serving must be chosen. The best way to connect the binary variable of a food being chosen or not and the continuous varible of the volume of a food here is two contraints combinations:  \n",
    "  \n",
    "1). volume = volume * chosen  \n",
    "  \n",
    "2). volume >= 1/10 * chosen  \n",
    "  \n",
    "These two constraints mean that if chosen = 0, then volume should be 0, and if chosen = 1, then volume should be at least 1/10 serving.  \n",
    "  \n",
    "But the problem here is that the first constraint is quadratic. One way to solve it is that we can change the first constraint into volume <= C * chosen, in which C is an extremely large number so that volume will not equal to C in optimal solution (chosen=1). But when chosen = 0, the this new constraint will become volume <= 0. Combining with volume >= 0, we can get volume = 0."
   ]
  },
  {
   "cell_type": "code",
   "execution_count": 9,
   "metadata": {},
   "outputs": [],
   "source": [
    "def minimum_volume(problem, food_volume, food_select):\n",
    "    for foodname in food_volume:\n",
    "        problem += food_volume[foodname] <= food_select[foodname] * 10000000\n",
    "            # ensure if a food is not selected, the volume will be zero\n",
    "        problem += food_volume[foodname] >= 1/10 * food_select[foodname]\n",
    "            # ensure if a food is selected, the volume will be at least 1/10 units\n",
    "    return problem"
   ]
  },
  {
   "cell_type": "markdown",
   "metadata": {},
   "source": [
    "For new constraints b: Many people dislike celery and frozen broccoli. So at most one, but not both, can be selected. "
   ]
  },
  {
   "cell_type": "code",
   "execution_count": 10,
   "metadata": {},
   "outputs": [],
   "source": [
    "def celery_broccoli(problem, food_select):\n",
    "    problem += food_select['Frozen Broccoli']+food_select['Celery, Raw'] <= 1\n",
    "    return problem"
   ]
  },
  {
   "cell_type": "markdown",
   "metadata": {},
   "source": [
    "For new constraints c: To get day-to-day variety in protein, at least 3 kinds of meat/poultry/fish/eggs must be selected."
   ]
  },
  {
   "cell_type": "code",
   "execution_count": 11,
   "metadata": {},
   "outputs": [],
   "source": [
    "def meat_kind(problem, food_select, meat_list):\n",
    "    total = 0\n",
    "    for meat in meat_list:\n",
    "        total += food_select[meat]\n",
    "    problem += total >= 3\n",
    "    return problem"
   ]
  },
  {
   "cell_type": "markdown",
   "metadata": {},
   "source": [
    "Following is a list of foods that are classified as meat/poultry/fish/eggs. And we build the model."
   ]
  },
  {
   "cell_type": "code",
   "execution_count": 12,
   "metadata": {},
   "outputs": [],
   "source": [
    "meat_list = ['Roasted Chicken', 'Poached Eggs', 'Scrambled Eggs', 'Bologna,Turkey', 'Frankfurter, Beef', \n",
    "             'Ham,Sliced,Extralean', 'Kielbasa,Prk', 'Pizza W/Pepperoni', 'Taco', 'Hamburger W/Toppings', \n",
    "             'Hotdog, Plain', 'Pork', 'Sardines in Oil', 'White Tuna in Water', 'Chicknoodl Soup', \n",
    "             'Splt Pea&Hamsoup', 'Vegetbeef Soup', 'Neweng Clamchwd', 'New E Clamchwd,W/Mlk', 'Beanbacn Soup,W/Watr']\n",
    "\n",
    "prob = LpProblem('p2', LpMinimize)\n",
    "food_volume = food(d_n)\n",
    "food_select = select(d_n)\n",
    "nutritionlist = d_n.columns.to_list()[3:]\n",
    "cost = 0\n",
    "for foodname in food_volume:\n",
    "    cost += food_volume[foodname] * d_n.loc[d_n['Foods']==foodname, 'Price/ Serving'].to_list()[0]\n",
    "prob += cost\n",
    "prob = nutrition_constraints(prob, nutritionlist, food_volume, d_n, d_c)\n",
    "prob = minimum_volume(prob, food_volume, food_select)\n",
    "prob = celery_broccoli(prob, food_select)\n",
    "prob = meat_kind(prob, food_select, meat_list)\n",
    "status = prob.solve()"
   ]
  },
  {
   "cell_type": "code",
   "execution_count": 13,
   "metadata": {},
   "outputs": [
    {
     "name": "stdout",
     "output_type": "stream",
     "text": [
      "Celery, Raw is selected:\n",
      "volume = 42.399\n",
      "\n",
      "Lettuce,Iceberg,Raw is selected:\n",
      "volume = 82.803\n",
      "\n",
      "Oranges is selected:\n",
      "volume = 3.077\n",
      "\n",
      "Poached Eggs is selected:\n",
      "volume = 0.100\n",
      "\n",
      "Scrambled Eggs is selected:\n",
      "volume = 0.100\n",
      "\n",
      "Kielbasa,Prk is selected:\n",
      "volume = 0.100\n",
      "\n",
      "Peanut Butter is selected:\n",
      "volume = 1.943\n",
      "\n",
      "Popcorn,Air-Popped is selected:\n",
      "volume = 13.223\n",
      "\n",
      "Obj = 4.513\n"
     ]
    }
   ],
   "source": [
    "for foodname in food_volume:\n",
    "    choose = value(food_select[foodname])\n",
    "    if choose > 0:\n",
    "        print(foodname+' is selected:')\n",
    "    need = value(food_volume[foodname])\n",
    "    if need > 0:\n",
    "        print('volume = {:.3f}\\n'.format(need))\n",
    "\n",
    "print('Obj = {:.3f}'.format(value(prob.objective)))"
   ]
  },
  {
   "cell_type": "markdown",
   "metadata": {},
   "source": [
    "Above is the optimal solution for the problem if we add three constraints. Compared to this problem, the former one can be regarded as a relaxation of this problem, so the minimized objective of this problem is 4.51, which is higher than the former one.  \n",
    "  \n",
    "Between Celery and Broccoli, Celery is included while the other one is excluded. And the solution contains three kinds of meat/poultry/fish/eggs (e.g. Poached Eggs, Scrambled Eggs and Kielbasa, Prk), but all of them are at the low bound of the value."
   ]
  },
  {
   "cell_type": "markdown",
   "metadata": {},
   "source": []
  },
  {
   "cell_type": "markdown",
   "metadata": {},
   "source": [
    "### 3. If you want to see what a more full-sized problem would look like, try solving your models for the file diet_large.xls, which is a low-cholesterol diet model (rather than minimizing cost, the goal is to minimize cholesterol intake).\n",
    "  \n",
    "*Data set 'diet_large.xls' is in the 'resources' file.*"
   ]
  },
  {
   "cell_type": "code",
   "execution_count": 14,
   "metadata": {},
   "outputs": [],
   "source": [
    "dl = pd.read_excel(r'C:\\Users\\alanl\\Desktop\\Gatech MSiA\\Courses\\ISyE 6501 Introduction to Analytics Modeling\\hw11\\data 15.2\\diet_large.xls')"
   ]
  },
  {
   "cell_type": "code",
   "execution_count": 15,
   "metadata": {},
   "outputs": [],
   "source": [
    "dl_c = dl.iloc[[7147,7149], :].dropna(axis=1) # Dataframe of constraint values"
   ]
  },
  {
   "cell_type": "code",
   "execution_count": 16,
   "metadata": {},
   "outputs": [],
   "source": [
    "dl_n = dl.iloc[:7146, :].drop(['Fatty acids, total trans', 'Fatty acids, total saturated'], axis=1)\n",
    "dl_n.fillna(0, inplace=True)"
   ]
  },
  {
   "cell_type": "code",
   "execution_count": 17,
   "metadata": {},
   "outputs": [],
   "source": [
    "def food_large(data):\n",
    "    food_volume = {}\n",
    "    nrow = data.shape[0]\n",
    "    for i in range(nrow):\n",
    "        foodname = data.iloc[i,]['Long_Desc']\n",
    "        food_volume[foodname] = LpVariable(foodname, 0, None, LpContinuous)\n",
    "    return food_volume\n",
    "\n",
    "def nutrition_constraints_large(problem, nutritionlist, food_volume, data, data_constraint):\n",
    "    for nutrition in nutritionlist:\n",
    "        minimum = data_constraint[nutrition].iloc[0]\n",
    "        maximum = data_constraint[nutrition].iloc[1]\n",
    "        total = 0\n",
    "        for foodname in food_volume:\n",
    "            n = data.loc[data['Long_Desc']==foodname, nutrition].to_list()[0]\n",
    "            total += n * food_volume[foodname]\n",
    "        problem += total <= maximum\n",
    "        problem += total >= minimum\n",
    "    return problem\n",
    "\n",
    "prob = LpProblem('p3', LpMinimize)\n",
    "food_volume = food_large(dl_n)\n",
    "nutritionlist = dl_n.columns.to_list()[1:-1]\n",
    "cholesterol = 0\n",
    "for foodname in food_volume:\n",
    "    cholesterol += food_volume[foodname] * dl_n.loc[dl_n['Long_Desc']==foodname, 'Cholesterol'].to_list()[0]\n",
    "prob += cholesterol\n",
    "prob = nutrition_constraints_large(prob, nutritionlist, food_volume, dl_n, dl_c)\n",
    "status = prob.solve()"
   ]
  },
  {
   "cell_type": "code",
   "execution_count": 18,
   "metadata": {},
   "outputs": [
    {
     "name": "stdout",
     "output_type": "stream",
     "text": [
      "Spices, mustard seed, yellow = 0.226\n",
      "Infant formula, WYETH-AYERST, store brand soy, with iron, powde = 0.660\n",
      "Oil, vegetable, nutmeg butter = 0.762\n",
      "Soup, clam chowder, manhattan style, dehydrated, dry = 0.061\n",
      "Water, bottled, non-carbonated, CALISTOGA = 9999.870\n",
      "Lupins, mature seeds, raw = 0.049\n",
      "Peanut flour, low fat = 0.256\n",
      "Soybeans, mature seeds, raw = 0.359\n",
      "Peanut butter, chunky, vitamin and mineral fortified = 0.230\n",
      "Leavening agents, baking powder, low-sodium = 0.080\n",
      "Leavening agents, baking soda = 0.002\n",
      "Leavening agents, yeast, baker's, active dry = 0.006\n",
      "Snacks, potato chips, plain, salted = 0.959\n",
      "Gelatin desserts, dry mix, reduced calorie, with aspartame, add = 0.066\n",
      "Oil, bearded seal, (oogruk oil) (Alaska Native) = 0.194\n",
      "Flaxseed oil = 0.102\n",
      "Celery flakes, dried = 0.091\n",
      "\n",
      "Obj = 0.000\n"
     ]
    }
   ],
   "source": [
    "for foodname in food_volume:\n",
    "    need = value(food_volume[foodname])\n",
    "    if need > 0:\n",
    "        print('{} = {:.3f}'.format(foodname,need))\n",
    "\n",
    "print('\\nObj = {:.3f}'.format(value(prob.objective)))"
   ]
  },
  {
   "cell_type": "markdown",
   "metadata": {},
   "source": [
    "We get a solution with zero cholesterol intake, which seems to be a unattractive diet."
   ]
  }
 ],
 "metadata": {
  "kernelspec": {
   "display_name": "Python 3",
   "language": "python",
   "name": "python3"
  },
  "language_info": {
   "codemirror_mode": {
    "name": "ipython",
    "version": 3
   },
   "file_extension": ".py",
   "mimetype": "text/x-python",
   "name": "python",
   "nbconvert_exporter": "python",
   "pygments_lexer": "ipython3",
   "version": "3.7.3"
  }
 },
 "nbformat": 4,
 "nbformat_minor": 2
}
